{
 "cells": [
  {
   "cell_type": "markdown",
   "metadata": {},
   "source": [
    "José Roberto Xavier da Silva 816113694"
   ]
  },
  {
   "cell_type": "markdown",
   "metadata": {},
   "source": [
    "1- Faça um Programa que peça o raio de um círculo, calcule e mostre sua área."
   ]
  },
  {
   "cell_type": "code",
   "execution_count": 1,
   "metadata": {},
   "outputs": [
    {
     "name": "stdout",
     "output_type": "stream",
     "text": [
      "Digite o raio 2\n",
      "12.56\n"
     ]
    }
   ],
   "source": [
    "x = float (input(\"Digite o raio \"))\n",
    "\n",
    "area = (3.14 * (x**2))\n",
    "\n",
    "print(area);"
   ]
  },
  {
   "cell_type": "markdown",
   "metadata": {},
   "source": [
    "2- Faça um Programa que calcule a área de um quadrado, em seguida mostre o dobro desta área para o usuário."
   ]
  },
  {
   "cell_type": "code",
   "execution_count": 2,
   "metadata": {},
   "outputs": [
    {
     "name": "stdout",
     "output_type": "stream",
     "text": [
      "Digite lado do quadrado2\n",
      "Área do quadrado: 4.0 \n",
      "Dobro da área: 16.0\n"
     ]
    }
   ],
   "source": [
    "l = float( input (\"Digite lado do quadrado\"))\n",
    "area = l**2;\n",
    "area_dobro = area ** 2;\n",
    "\n",
    "print('Área do quadrado: {} \\nDobro da área: {}'.format(area, area_dobro))"
   ]
  },
  {
   "cell_type": "markdown",
   "metadata": {},
   "source": [
    "3- Faça um Programa que pergunte quanto você ganha por hora e o número de horas trabalhadas no mês. Calcule e mostre o total do seu salário no referido mês."
   ]
  },
  {
   "cell_type": "code",
   "execution_count": 3,
   "metadata": {},
   "outputs": [
    {
     "name": "stdout",
     "output_type": "stream",
     "text": [
      "Digite o seu sálario por hora 8\n",
      "Digite o número de horas trabalhadas no mês 40\n",
      "Seu sálario é: R$ 320.0\n"
     ]
    }
   ],
   "source": [
    "salario = float(input(\"Digite o seu sálario por hora \"))\n",
    "hora    = int(input(\"Digite o número de horas trabalhadas no mês \"))\n",
    "\n",
    "total   = salario * hora\n",
    "\n",
    "print('Seu sálario é: R$ {}'.format(total))"
   ]
  },
  {
   "cell_type": "markdown",
   "metadata": {},
   "source": [
    "4- Faça um Programa que peça a temperatura em graus Farenheit, transforme e mostre a temperatura em graus Celsius. C = (5 * (F-32) / 9)."
   ]
  },
  {
   "cell_type": "code",
   "execution_count": 4,
   "metadata": {},
   "outputs": [
    {
     "name": "stdout",
     "output_type": "stream",
     "text": [
      "Digite a temperatura em graus Farenheit 74\n",
      "Graus Celsius:      23.33 °\n"
     ]
    }
   ],
   "source": [
    "f = int(input(\"Digite a temperatura em graus Farenheit \"))\n",
    "\n",
    "c = (5*(f-32)/9)\n",
    "\n",
    "print(\"Graus Celsius: {0:10.2f} °\".format(c))"
   ]
  },
  {
   "cell_type": "markdown",
   "metadata": {},
   "source": [
    "5- Faça um Programa que peça a temperatura em graus Celsius, transforme e mostre em graus Farenheit."
   ]
  },
  {
   "cell_type": "code",
   "execution_count": 5,
   "metadata": {},
   "outputs": [
    {
     "name": "stdout",
     "output_type": "stream",
     "text": [
      "Digte a temperatura em graus Celsius 37\n",
      "graus Farenheit:      98.60\n"
     ]
    }
   ],
   "source": [
    "c =float(input(\"Digte a temperatura em graus Celsius \"))\n",
    "\n",
    "f = ((1.8 * c) + 32)\n",
    "\n",
    "print(\"graus Farenheit: {0:10.2f}\".format(f))"
   ]
  },
  {
   "cell_type": "markdown",
   "metadata": {},
   "source": [
    "6- Faça um Programa que peça 2 números inteiros e um número real. Calcule e\n",
    "mostre:\n",
    "- o produto do dobro do primeiro com metade do segundo .\n",
    "- a soma do triplo do primeiro com o terceiro.\n",
    "- o terceiro elevado ao cubo."
   ]
  },
  {
   "cell_type": "code",
   "execution_count": 6,
   "metadata": {},
   "outputs": [
    {
     "name": "stdout",
     "output_type": "stream",
     "text": [
      "Digite um numero inteiro10\n",
      "Digite segundo numero inteiro15\n",
      "Digite um numero real22.05\n",
      "O primeiro resultado  6.67, segundo  6.67 e terceiro  6.67\n"
     ]
    }
   ],
   "source": [
    "n1 = int(input(\"Digite um numero inteiro\"))\n",
    "n2 = int(input(\"Digite segundo numero inteiro\"))\n",
    "n3 = float(input(\"Digite um numero real\"))\n",
    "\n",
    "m = n1**2 / n2\n",
    "m2 = n1**3 + n3\n",
    "m3 = n3**3\n",
    "\n",
    "print(\"O primeiro resultado {0:5.2f}, segundo {0:5.2f} e terceiro {0:5.2f}\".format(m,m2,m3))"
   ]
  },
  {
   "cell_type": "markdown",
   "metadata": {},
   "source": [
    "7 - João Papo-de-Pescador, homem de bem, comprou um microcomputador para controlar o rendimento diário de seu trabalho. Toda vez que ele traz um peso de peixes maior que o estabelecido pelo regulamento de pesca do estado de São Paulo (50 quilos) deve pagar uma multa de R$ 4,00 por quilo excedente. João precisa que você faça um programa que leia a variável peso (peso de peixes) e verifique se há excesso. Se houver, gravar na variável excesso e na variável multa o valor da multa que João deverá pagar. Caso contrário mostrar tais variáveis com o conteúdo ZERO."
   ]
  },
  {
   "cell_type": "code",
   "execution_count": 7,
   "metadata": {},
   "outputs": [
    {
     "name": "stdout",
     "output_type": "stream",
     "text": [
      "Digite o peso 55\n",
      "Há excesso 5.0, assim o novo preço é: 20.0\n"
     ]
    }
   ],
   "source": [
    "p = float(input(\"Digite o peso \"))\n",
    "\n",
    "if(p > 50):\n",
    "    multa = p - 50;\n",
    "    m = multa * 4;\n",
    "    print(\"Há excesso {}, assim o novo preço é: {}\".format(multa, m))\n",
    "else:\n",
    "    print(\"Sem excesso\")"
   ]
  },
  {
   "cell_type": "markdown",
   "metadata": {},
   "source": [
    "8 - Faça um Programa que pergunte quanto você ganha por hora e o número de horas trabalhadas no mês. Calcule e mostre o total do seu salário no referido mês, sabendo-se que são descontados 11% para o Imposto de Renda, 8% para o INSS e 5% para o sindicato, faça um programa que nos dê:"
   ]
  },
  {
   "cell_type": "code",
   "execution_count": 8,
   "metadata": {},
   "outputs": [
    {
     "name": "stdout",
     "output_type": "stream",
     "text": [
      "Digite o seu sálario por hora10\n",
      "Digite o número de horas trabalhadas no mês80\n",
      "Imposto de renda: 88.0, INSS: 64.0, Sindicato: 40.0\n",
      "Seu sálario é:608.0\n"
     ]
    }
   ],
   "source": [
    "sh = float(input(\"Digite o seu sálario por hora\"))\n",
    "hora    = int(input(\"Digite o número de horas trabalhadas no mês\"))\n",
    "\n",
    "salario   = sh * hora\n",
    "\n",
    "renda = salario * 11/100\n",
    "inss  = salario * 8/100\n",
    "sindicado = salario * 5/100\n",
    "\n",
    "total = (salario - (renda + inss + sindicado))\n",
    "print('Imposto de renda: {}, INSS: {}, Sindicato: {}\\nSeu sálario é:{}'.format(renda,inss,sindicado,total))"
   ]
  },
  {
   "cell_type": "markdown",
   "metadata": {},
   "source": [
    "9 - Faça um programa que leia 2 strings e informe o conteúdo delas seguido do seu comprimento. Informe também se as duas strings possuem o mesmo comprimento e são iguais ou diferentes no conteúdo."
   ]
  },
  {
   "cell_type": "code",
   "execution_count": 9,
   "metadata": {},
   "outputs": [
    {
     "name": "stdout",
     "output_type": "stream",
     "text": [
      "Digite uma string -> Brasil Hexa 2018\n",
      "Digite a segunda string -> Brasil! Hexa 2018!\n",
      "1 Tamanho de Brasil Hexa 2018: 16 caracteres\n",
      "2 Tamanho de Brasil! Hexa 2018!: 18 caracteres\n",
      "As duas strings possuem conteúdo diferente\n"
     ]
    }
   ],
   "source": [
    "s1 = input(\"Digite uma string -> \")\n",
    "s2 = input(\"Digite a segunda string -> \")\n",
    "\n",
    "t = len(s1);\n",
    "t2 = len(s2);\n",
    "\n",
    "print(\"1 Tamanho de {}: {} caracteres\\n2 Tamanho de {}: {} caracteres\".format(s1,len(s1),s2,len(s2)))\n",
    "if(t == t2):\n",
    "    print(\"As duas strings são de tamanhos iguais\")\n",
    "    \n",
    "else:\n",
    "    print(\"As duas strings possuem conteúdo diferente\")"
   ]
  },
  {
   "cell_type": "markdown",
   "metadata": {},
   "source": [
    "10 - Faça um programa que permita ao usuário digitar o seu nome e em seguida\n",
    "mostre o nome do usuário de trás para frente utilizando somente letras maiúsculas.\n",
    "Dica: lembre−se que ao informar o nome o usuário pode digitar letras maiúsculas ou\n",
    "minúsculas. Observação: não use loops."
   ]
  },
  {
   "cell_type": "code",
   "execution_count": 13,
   "metadata": {},
   "outputs": [
    {
     "name": "stdout",
     "output_type": "stream",
     "text": [
      "Digite seu nome José\n",
      "Seu nome de trás para frente ÉSOJ\n"
     ]
    }
   ],
   "source": [
    "n = input(\"Digite seu nome \")\n",
    "i = n[::-1]\n",
    "print(\"Seu nome de trás para frente {}\".format(i.upper()))\n"
   ]
  },
  {
   "cell_type": "markdown",
   "metadata": {},
   "source": [
    "11 - Faça um programa que solicite a data de nascimento (dd/mm/aaaa) do usuário e\n",
    "imprima a data com o nome do mês por extenso."
   ]
  },
  {
   "cell_type": "code",
   "execution_count": 33,
   "metadata": {},
   "outputs": [
    {
     "name": "stdout",
     "output_type": "stream",
     "text": [
      "Digite a data do seu nascimento (dd/mm/aaaa)02/05/1996\n",
      "Data de Nascimento: 02/05/1996\n",
      "Você nasceu em 02 de Maio de 1996\n"
     ]
    }
   ],
   "source": [
    "d = input(\"Digite a data do seu nascimento (dd/mm/aaaa)\" )\n",
    "\n",
    "d1 = d[3]\n",
    "d2= d[4]\n",
    "\n",
    "m= d1 + d2\n",
    "\n",
    "dia = d[0] + d[1]\n",
    "\n",
    "ano = d[6:]\n",
    "\n",
    "calendario = {'01':'Janeiro','02':'Fevereiro','03':'Março','04':'Abril','05':'Maio','06':'Junho','07':'Julho','08':'Agosto','09':'Setembro','10':'Outubro','11':'Novembro','12':'Dezembro'}\n",
    "            \n",
    "print(\"Data de Nascimento: {}/{}/{}\\nVocê nasceu em {} de {} de {}\".format(dia,m,ano,dia,calendario[m],ano))\n"
   ]
  },
  {
   "cell_type": "markdown",
   "metadata": {},
   "source": [
    "12- Leet é uma forma de se escrever o alfabeto latino usando outros símbolos em\n",
    "lugar das letras, como números por exemplo. A própria palavra leet admite muitas\n",
    "variações, como l33t ou 1337. O uso do leet reflete uma subcultura relacionada ao\n",
    "mundo dos jogos de computador e internet, sendo muito usada para confundir os\n",
    "iniciantes e afirmar-se como parte de um grupo. Pesquise sobre as principais formas\n",
    "de traduzir as letras. Depois, faça um programa que peça uma texto e transforme-o\n",
    "para a grafia leet speak."
   ]
  },
  {
   "cell_type": "code",
   "execution_count": 34,
   "metadata": {},
   "outputs": [
    {
     "name": "stdout",
     "output_type": "stream",
     "text": [
      "Tradução: 1337\n"
     ]
    }
   ],
   "source": [
    "s = \"leet\"\n",
    "l = 1\n",
    "e = 3\n",
    "t = 7\n",
    "\n",
    "print(\"Tradução: {}{}{}{}\".format(l,e,e,t))"
   ]
  },
  {
   "cell_type": "markdown",
   "metadata": {},
   "source": [
    "13 - Crie um programa que recebe uma lista de números e\n",
    "- retorne o maior elemento\n",
    "- retorne a soma dos elementos\n",
    "- retorne o número de ocorrências do primeiro elemento da lista\n",
    "- retorne a média dos elementos\n",
    "- retorne o valor mais próximo da média dos elementos\n",
    "- retorne a soma dos elementos com valor negativo\n",
    "- retorne a quantidade de vizinhos iguais"
   ]
  },
  {
   "cell_type": "code",
   "execution_count": 124,
   "metadata": {},
   "outputs": [
    {
     "name": "stdout",
     "output_type": "stream",
     "text": [
      "Soma: 15 Maior: 5 Primeiro: 1 Média: 3.0 Negativo: -3.0 Próximo 1\n",
      "Soma: 15 Maior: 5 Primeiro: 1 Média: 3.0 Negativo: -3.0 Próximo 2\n",
      "Soma: 15 Maior: 5 Primeiro: 1 Média: 3.0 Negativo: -3.0 Próximo 3\n",
      "Soma: 15 Maior: 5 Primeiro: 1 Média: 3.0 Negativo: -3.0 Próximo 3\n",
      "Soma: 15 Maior: 5 Primeiro: 1 Média: 3.0 Negativo: -3.0 Próximo 3\n"
     ]
    }
   ],
   "source": [
    "num = [1,2,3,4,5]\n",
    "soma = 0\n",
    "\n",
    "for n in num:\n",
    "    \n",
    "    soma = sum(num)\n",
    "    maior = max(num)\n",
    "    p = num[0]\n",
    "    media = soma/len(num)\n",
    "\n",
    "    if media >= n:\n",
    "        prox = n \n",
    " \n",
    "    print(\"Soma: {} Maior: {} Primeiro: {} Média: {} Negativo: -{} Próximo {}\".format(soma, maior, p, media, media,prox))\n"
   ]
  },
  {
   "cell_type": "markdown",
   "metadata": {},
   "source": [
    "14 -Faça um programa que receba duas listas e retorne True se são iguais ou False\n",
    "caso contrario.\n",
    "Duas listas são iguais se possuem os mesmos valores e na mesma ordem."
   ]
  },
  {
   "cell_type": "code",
   "execution_count": 170,
   "metadata": {},
   "outputs": [
    {
     "name": "stdout",
     "output_type": "stream",
     "text": [
      "Digite um numero da primeira lista: 1\n",
      "Digite segundo numero da primeira lista: 2\n",
      "Digite um numero da segunda lista: 1\n",
      "Digite segundo numero da segunda lista: 2\n",
      "True\n"
     ]
    }
   ],
   "source": [
    "listar = []\n",
    "listar2 = []\n",
    "\n",
    "l = int(input(\"Digite um numero da primeira lista: \"))\n",
    "l2 = int(input(\"Digite segundo numero da primeira lista: \"))\n",
    "\n",
    "lista = int(input(\"Digite um numero da segunda lista: \"))\n",
    "lista2 = int(input(\"Digite segundo numero da segunda lista: \"))\n",
    "\n",
    "listar.append(l)\n",
    "listar.append(l2)\n",
    "\n",
    "listar2.append(lista)\n",
    "listar2.append(lista2)\n",
    "\n",
    "lista_final = list(set(listar2) - set(listar))\n",
    "\n",
    "if lista_final != None:\n",
    "    print(\"True\")\n",
    "  "
   ]
  },
  {
   "cell_type": "markdown",
   "metadata": {},
   "source": [
    "15 - Faça um programa que receba duas listas e retorne True se têm os mesmos\n",
    "elementos ou False caso contrário\n",
    "Duas listas possuem os mesmos elementos quando são compostas pelos mesmos\n",
    "valores, mas não obrigatoriamente na mesma ordem."
   ]
  },
  {
   "cell_type": "code",
   "execution_count": 171,
   "metadata": {},
   "outputs": [
    {
     "name": "stdout",
     "output_type": "stream",
     "text": [
      "Digite um numero da primeira lista: 5\n",
      "Digite segundo numero da primeira lista: 4\n",
      "Digite um numero da segunda lista: 5\n",
      "Digite segundo numero da segunda lista: 4\n",
      "True\n"
     ]
    }
   ],
   "source": [
    "listar = []\n",
    "listar2 = []\n",
    "\n",
    "l = int(input(\"Digite um numero da primeira lista: \"))\n",
    "l2 = int(input(\"Digite segundo numero da primeira lista: \"))\n",
    "\n",
    "lista = int(input(\"Digite um numero da segunda lista: \"))\n",
    "lista2 = int(input(\"Digite segundo numero da segunda lista: \"))\n",
    "\n",
    "listar.append(l)\n",
    "listar.append(l2)\n",
    "\n",
    "listar2.append(lista)\n",
    "listar2.append(lista2)\n",
    "\n",
    "lista_final = list(set(listar2) - set(listar))\n",
    "\n",
    "if lista_final != None:\n",
    "    print(\"True\")"
   ]
  },
  {
   "cell_type": "markdown",
   "metadata": {},
   "source": [
    "16- Faça um programa que percorre uma lista com o seguinte formato: [['Brasil',\n",
    "'Italia', [10, 9]], ['Brasil', 'Espanha', [5, 7]], ['Italia', 'Espanha', [7,8]]]. Essa lista indica o\n",
    "número de faltas que cada time fez em cada jogo. Na lista acima, no jogo entre Brasil\n",
    "e Itália, o Brasil fez 10 faltas e a Itália fez 9.\n",
    "O programa deve imprimir na tela:\n",
    "- o total de faltas do campeonato\n",
    "- o time que fez mais faltas\n",
    "- o time que fez menos faltas"
   ]
  },
  {
   "cell_type": "code",
   "execution_count": 6,
   "metadata": {},
   "outputs": [
    {
     "name": "stdout",
     "output_type": "stream",
     "text": [
      "Soma: 45 Maior: 16 Menor: 14\n"
     ]
    }
   ],
   "source": [
    "falta = {'Brasil':15,'Italia':16,'Espanha':14}\n",
    "soma =sum(falta.values())\n",
    "maior = max(falta.values())\n",
    "menor = min(falta.values())\n",
    "print(\"Soma: {} Maior: {} Menor: {}\".format(soma,maior,menor))\n"
   ]
  },
  {
   "cell_type": "markdown",
   "metadata": {},
   "source": [
    "17 - Escreva um programa que conta a quantidade de vogais em uma string e\n",
    "armazena tal quantidade em um dicionário, onde a chave é a vogal considerada"
   ]
  },
  {
   "cell_type": "code",
   "execution_count": 8,
   "metadata": {},
   "outputs": [
    {
     "name": "stdout",
     "output_type": "stream",
     "text": [
      "{'A': 1, 'E': 1, 'O': 2}\n"
     ]
    }
   ],
   "source": [
    "j =\"Jose do abc\"\n",
    "\n",
    "dic={}\n",
    "jmaior= j.upper()\n",
    "if (\"A\" in jmaior):\n",
    "    dic['A']=jmaior.count(\"A\")\n",
    "if (\"E\" in jmaior):\n",
    "    dic['E']=jmaior.count(\"E\")\n",
    "if (\"I\" in jmaior):\n",
    "    dic['I']=jmaior.count(\"I\")\n",
    "if (\"O\" in jmaior):\n",
    "    dic['O']=jmaior.count(\"O\")\n",
    "if (\"U\" in jmaior):\n",
    "    dic['U']=jmaior.count(\"U\")\n",
    "print(dic)"
   ]
  },
  {
   "cell_type": "markdown",
   "metadata": {},
   "source": [
    "18 - Escreva um programa que lê̂ duas notas de vários alunos e armazena tais notas\n",
    "em um dicionário, onde a chave é o nome do aluno. A entrada de dados deve\n",
    "terminar quando for lida uma string vazia como nome. Escreva uma função que\n",
    "retorna a média do aluno, dado seu nome."
   ]
  },
  {
   "cell_type": "code",
   "execution_count": 48,
   "metadata": {},
   "outputs": [
    {
     "name": "stdout",
     "output_type": "stream",
     "text": [
      "Digite o nome do aluno jose\n",
      "Digite a nota do aluno 10\n",
      "Nome e sua nota ['jose', 10]\n"
     ]
    }
   ],
   "source": [
    "li=[]\n",
    "\n",
    "nome = input(\"Digite o nome do aluno \")\n",
    "nota = int(input(\"Digite a nota do aluno \"))\n",
    "li.append(nome)\n",
    "li.append(nota)\n",
    "\n",
    "print(\"Nome e sua nota {}\".format(li))\n"
   ]
  },
  {
   "cell_type": "markdown",
   "metadata": {},
   "source": [
    "19 - Uma pista de Kart permite 10 voltas para cada um de 6 corredores. Escreva um\n",
    "programa que leia todos os tempos em segundos e os guarde em um dicionário,\n",
    "onde a chave é o nome do corredor. Ao final diga de quem foi a melhor volta da\n",
    "prova e em que volta; e ainda a classificação final em ordem (1o o campeão). O\n",
    "campeão é o que tem a menor média de tempos."
   ]
  },
  {
   "cell_type": "code",
   "execution_count": 67,
   "metadata": {},
   "outputs": [
    {
     "name": "stdout",
     "output_type": "stream",
     "text": [
      "Digite o nome do piloto José\n",
      "Digite o tempo do piloto 10\n",
      "Campeão: ['José', 10.0]\n"
     ]
    }
   ],
   "source": [
    "nome = input(\"Digite o nome do piloto \")\n",
    "kart = [nome]\n",
    "tempo = float(input(\"Digite o tempo do piloto \"))\n",
    "kart.append(tempo)\n",
    "\n",
    "\n",
    "print(\"Campeão: {}\".format(kart))"
   ]
  },
  {
   "cell_type": "markdown",
   "metadata": {},
   "source": [
    "20 - Escreva um programa para armazenar uma agenda de telefones em um\n",
    "dicionário. Cada pessoa pode ter um ou mais telefones e a chave do dicionário é o\n",
    "nome da pessoa. Seu programa deve ter as seguintes funções:\n",
    "- incluirNovoNome – essa função acrescenta um novo nome na agenda, com um ou\n",
    "mais telefones. Ela deve receber como argumentos o nome e os telefones.\n",
    "- incluirTelefone – essa função acrescenta um telefone em um nome existente na\n",
    "agenda. Caso o nome não exista na agenda, você̂ deve perguntar se a pessoa deseja\n",
    "inclui-lo. Caso a resposta seja afirmativa, use a função anterior para incluir o novo\n",
    "nome.\n",
    "- excluirTelefone – essa função exclui um telefone de uma pessoa que já está na\n",
    "agenda. Se a pessoa tiver apenas um telefone, ela deve ser excluída da agenda.\n",
    "- excluirNome – essa função exclui uma pessoa da agenda.\n",
    "- consultarTelefone – essa função retorna os telefones de uma pessoa na agenda."
   ]
  },
  {
   "cell_type": "code",
   "execution_count": 73,
   "metadata": {},
   "outputs": [
    {
     "name": "stdout",
     "output_type": "stream",
     "text": [
      "Remova um contato João\n",
      "{'José': 9827555, 'Maria': 895645}\n"
     ]
    }
   ],
   "source": [
    "lista = {'José':9827555,'Maria':895645,'João': 45451547}\n",
    "nome = input(\"Remova um contato \")\n",
    "lista.pop(nome)\n",
    "\n",
    "print(lista)"
   ]
  },
  {
   "cell_type": "markdown",
   "metadata": {},
   "source": [
    "21 - Faça um programa que leia um arquivo texto contendo uma lista de endereços IP\n",
    "e gere um outro arquivo, contendo um relatório dos endereços IP válidos e inválidos."
   ]
  },
  {
   "cell_type": "code",
   "execution_count": 77,
   "metadata": {},
   "outputs": [
    {
     "name": "stdout",
     "output_type": "stream",
     "text": [
      "Overwriting my_file.txt\n"
     ]
    }
   ],
   "source": [
    "%%writefile my_file.txt\n",
    "my_file.write('Válidos 200.135.80.9 192.168.1.1 8.35.67.74 1.2.3.4')\n",
    "my_file.write('Inválidos 257.32.4.5 85.345.1.2 9.8.234.5 192.168.0.256')\n",
    "print(my_file.read())"
   ]
  },
  {
   "cell_type": "markdown",
   "metadata": {},
   "source": [
    "21 - A ACME Inc., uma empresa de 500 funcionários, está tendo problemas de espaço\n",
    "em disco no seu servidor de arquivos. Para tentar resolver este problema, o\n",
    "Administrador de Rede precisa saber qual o espaço ocupado pelos usuários, e\n",
    "identificar os usuários com maior espaço ocupado. Através de um programa, baixado\n",
    "da Internet, ele conseguiu gerar o seguinte arquivo, chamado \"usuarios.txt\":"
   ]
  },
  {
   "cell_type": "code",
   "execution_count": 78,
   "metadata": {},
   "outputs": [
    {
     "name": "stdout",
     "output_type": "stream",
     "text": [
      "Writing relatório.txt\n"
     ]
    }
   ],
   "source": [
    "%%writefile relatório.txt\n",
    "ACME Inc. Uso do espaço em disco pelos usuários\n",
    "--------------------------------------------------------------\n",
    "----------\n",
    "Nr. Usuário Espaço utilizado % do uso\n",
    "1 alexandre 434,99 MB 16,85%\n",
    "2 anderson 1187,99 MB 46,02%\n",
    "3 antonio 117,73 MB 4,56%\n",
    "4 carlos 87,03 MB 3,37%\n",
    "5 cesar 0,94 MB 0,04%\n",
    "6 rosemary 752,88 MB 29,16%\n",
    "Espaço total ocupado: 2581,57 MB\n",
    "Espaço médio ocupado: 430,26 MB\n",
    "    \n",
    "print(my_file.read())"
   ]
  },
  {
   "cell_type": "code",
   "execution_count": null,
   "metadata": {},
   "outputs": [],
   "source": []
  }
 ],
 "metadata": {
  "kernelspec": {
   "display_name": "Python 3",
   "language": "python",
   "name": "python3"
  },
  "language_info": {
   "codemirror_mode": {
    "name": "ipython",
    "version": 3
   },
   "file_extension": ".py",
   "mimetype": "text/x-python",
   "name": "python",
   "nbconvert_exporter": "python",
   "pygments_lexer": "ipython3",
   "version": "3.6.4"
  }
 },
 "nbformat": 4,
 "nbformat_minor": 2
}
